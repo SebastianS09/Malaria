{
 "cells": [
  {
   "cell_type": "markdown",
   "metadata": {
    "collapsed": true
   },
   "source": [
    "# Malaria Project\n",
    "\n",
    "## Introduction \n",
    "### Members\n",
    "#### Student 1\n",
    "Name: Sebastian Schwarz\n",
    "<br>Group : intermediate\n",
    "#### Student 2\n",
    "Name : Youssef Hantous\n",
    "<br>Group : intermediate\n",
    "\n",
    "\n",
    "### Data name :\n",
    "**A geo-coded inventory of anophelines in the Afrotropical Region south of the Sahara: 1898-2016**\n",
    "\n",
    "### Data URL : \n",
    "- Kaggle: https://www.kaggle.com/jboysen/malaria-mosquito \n",
    "- Dataverse: https://dataverse.harvard.edu/dataset.xhtml?persistentId=doi:10.7910/DVN/NQ6CUN\n",
    "<br>The paper describing how this dataset was compiled can be found here: https://wellcomeopenresearch.org/articles/2-57/v1 \n",
    "\n",
    "##### Project Description\n",
    "The aim of this project is to study the distribution and evolution of anophenile vectors of Malaria in Africa. \n",
    "The dataset is a compilation of all available Subsaharian mosquito studies from 1898 to 2016. It was compiled in *Kyalo D, Amratia P, Mundia CW et al. A geo-coded inventory of anophelines in the Afrotropical Region south of the Sahara: 1898-2016*, published in 2017 with the help of the KEMRI-Wellcome Trust, and in collaboration with many major research agencies on Malaria. \n",
    "\n",
    "This data should help better understand how malaria developped in the past century and what species are primarily associated with its expansion. \n",
    "\n",
    "We want to present this data in a clear fashion, showing trends in the evolution and the spread of anopheniles in Africa, and try to predict the future repartition of main malaria transmitting species. \n",
    "\n",
    "##### Github Repository\n",
    "- https://github.com/SebastianS09/Malaria (peut être pas) \n",
    "\n",
    "*Please note: internet connection is required for proper execution. Interactive Plotly graphs will not be displayed correctly in Safari, latest version (5.2) of Jupyter Notebook is required (http://jupyter-notebook.readthedocs.io/en/stable/changelog.html) *\n",
    "\n",
    "## Code\n",
    "#### Data Import auditing and cleaning"
   ]
  },
  {
   "cell_type": "code",
   "execution_count": null,
   "metadata": {
    "scrolled": false
   },
   "outputs": [],
   "source": [
    "import numpy as np \n",
    "import pandas as pd \n",
    "\n",
    "## The data was uploded on github to easily download it from any python session. \n",
    "data_raw = pd.read_csv(\"https://raw.githubusercontent.com/SebastianS09/Malaria/master/Data/Malaria.csv\")\n",
    "\n",
    "print(\"The dataset has \",data_raw.shape[0],\"rows and \",data_raw.shape[1],\"columns\")\n",
    "\n",
    "data_raw.head(10)\n"
   ]
  },
  {
   "cell_type": "markdown",
   "metadata": {
    "collapsed": true
   },
   "source": [
    "One observation of the data set is associated with one location, time and a source study. I consists of saying wehter a species / subspecies of mosquito was detected during a particular survey or not.\n",
    "\n",
    "The **location information** is displayed as follows: \n",
    "- Country and Village name\n",
    "- GAUL administrative regions (https://en.wikipedia.org/wiki/Global_Administrative_Unit_Layers) which are a unified spatial admnistrative unit system\n",
    "- Geospatial coordinates and source\n",
    "\n",
    "The **historical information** is displayed as follows: \n",
    "- Each survey has a start and an end date. We will audit this in the next cell\n",
    "\n",
    "There is **supplementary information** (meta-data on the study) on the survey namely:\n",
    "- Adults/Larvae: whether the survey was conducts on adults or larvae (live in water), sometimes unknown\n",
    "- Sampling methods: how the speciemens where caught \n",
    "- Identification methods: how they were attributed to one species\n",
    "- Other names and other species: if the species found also have other names and if they were other species present than the main 36 quoted\n",
    "Details of the abreviations can be found here: https://github.com/SebastianS09/Malaria/blob/master/Data/Africa%20Vectors%20database_1898-2016_key.pdf\n",
    "\n",
    "Finally, there is the **source study** from which the information was taken.\n",
    "\n",
    "We will explore this supplementary information later"
   ]
  },
  {
   "cell_type": "code",
   "execution_count": null,
   "metadata": {
    "scrolled": false
   },
   "outputs": [],
   "source": [
    "import matplotlib.pyplot as plt\n",
    "#increasing size of graphs\n",
    "plt.rcParams['figure.dpi'] = 72*2\n",
    "\n",
    "dates = np.vstack([data_raw[\"YeStart\"],data_raw[\"YeEnd\"]]).T\n",
    "plt.hist(dates,bins=50, alpha=0.75, label=['Start', 'End'])\n",
    "plt.legend(loc='upper right')\n",
    "plt.title(\"Histogram of survey Start and End year\")\n",
    "plt.show()"
   ]
  },
  {
   "cell_type": "markdown",
   "metadata": {},
   "source": [
    "As we can see, most of the surveys have been executed around the 60s and in the late 2000s. \n",
    "\n",
    "However, the start year and the end year do not always coincide, meaning that the surveys may have been run on periods extending one year. Let us look into this with more detail. "
   ]
  },
  {
   "cell_type": "code",
   "execution_count": null,
   "metadata": {
    "scrolled": true
   },
   "outputs": [],
   "source": [
    "length = dates[:,1]-dates[:,0]\n",
    "plt.hist(length, bins=50, facecolor=\"blue\", alpha=0.75)\n",
    "plt.title(\"Histogram of Survey length\")\n",
    "plt.show()"
   ]
  },
  {
   "cell_type": "markdown",
   "metadata": {},
   "source": [
    "Most of the surveys have lasted for less than five years which seems reasonable. \n",
    "The fact that there is a non zero number of surveys lasting more than 20 years however is surprising. \n",
    "Let us look at this data and query the unique study titles associated to these long period surveys"
   ]
  },
  {
   "cell_type": "code",
   "execution_count": null,
   "metadata": {
    "scrolled": false
   },
   "outputs": [],
   "source": [
    "long_survey = data_raw[[\"YeStart\",\"YeEnd\",\"Source_Title\"]].query(\"YeEnd-YeStart>20\")\n",
    "pd.DataFrame(long_survey)"
   ]
  },
  {
   "cell_type": "code",
   "execution_count": null,
   "metadata": {
    "scrolled": true
   },
   "outputs": [],
   "source": [
    "pd.DataFrame(long_survey[\"Source_Title\"].value_counts().sort_values(ascending = False))"
   ]
  },
  {
   "cell_type": "markdown",
   "metadata": {},
   "source": [
    "Looking at this summary data, it seems that republication dates have sometimes be taken into account as end dates (see Hamon J studies for example). \n",
    "\n",
    "**Moving forward, we will therefore use the start date as the reference date.** We would suggest auditing these long period cases for the sake of the datasets integrity, even if it does not affect us very much here."
   ]
  },
  {
   "cell_type": "markdown",
   "metadata": {},
   "source": [
    "Let us move forward and clean the data to only keep the columns we need in our anlaysis. \n",
    "\n",
    "##### Removing unecessary geographical precision and study information\n",
    "\n",
    "The Study_source column is particularly heavy (the description texts are very long). We will remove it to speed up data manipulation processes and ligthen memory usage. \n",
    "\n",
    "We will also remove too granular geographical information (Gaul_Admin2 and Full_name which is the name of the village)\n",
    "\n",
    "We also remove spaces, dots and slashes from the column names to avoid errors when manipulating data. "
   ]
  },
  {
   "cell_type": "code",
   "execution_count": null,
   "metadata": {
    "scrolled": true
   },
   "outputs": [],
   "source": [
    "print(data_raw.memory_usage(deep=True))\n",
    "\n",
    "#harmonizing column names to avoid errors\n",
    "data_raw.columns = [i.replace(' ', '_') for i in data_raw.columns]\n",
    "data_raw.columns = [i.replace('.', '_') for i in data_raw.columns]\n",
    "data_raw.columns = [i.replace('/', '_') for i in data_raw.columns]\n",
    "col_rm = ['GAUL_Admin2','Full_Name','LatLong_Source','Source_Title']\n",
    "\n",
    "#create a dataframe with dropped columns\n",
    "data_rm = data_raw.drop(col_rm, axis=1)\n",
    "\n"
   ]
  },
  {
   "cell_type": "markdown",
   "metadata": {},
   "source": [
    "##### Cleaning Adults/Larvae field for Case\n",
    "\n",
    "We notice that we have an occurence of Adults/larvae with a minuscule which we want to clean"
   ]
  },
  {
   "cell_type": "code",
   "execution_count": null,
   "metadata": {
    "scrolled": true
   },
   "outputs": [],
   "source": [
    "print(\"Initial data: \\n\",data_raw[\"Adults_Larvae\"].value_counts(),\"\\n\")\n",
    "\n",
    "data_raw[\"Adults_Larvae\"] = data_raw[\"Adults_Larvae\"].replace(\"Adults, larvae\",\"Adults, Larvae\")\n",
    "\n",
    "print(\"Cleaned data: \\n\",data_raw[\"Adults_Larvae\"].value_counts())"
   ]
  },
  {
   "cell_type": "markdown",
   "metadata": {},
   "source": [
    "##### Replacing Y and NaN with 0 and 1 for ease of understanding (col 7 to 33)\n",
    "As we can see, the presence of an anophenile is encoded in columns holding the species' names, with \"Yes\" if it is present and \"NaN\" otherwise. \n",
    "We will replace these values to 0 and 1 to be able to perform mathematical operations on the columns"
   ]
  },
  {
   "cell_type": "code",
   "execution_count": null,
   "metadata": {
    "scrolled": false
   },
   "outputs": [],
   "source": [
    "print(\"Column titles: \\n\",list(data_raw),\"\\n\")\n",
    "\n",
    "#making a copy of the data with dropped columns\n",
    "data_clean = data_rm.copy()\n",
    "\n",
    "#list of columns with mosquito information\n",
    "ano = list(data_clean)[6:32]\n",
    "\n",
    "print(data_clean[ano[:3]].head(2))\n",
    "\n",
    "#Let us replace Y and NaN\n",
    "data_clean[ano] = data_clean[ano].replace(['Y'],1)\n",
    "data_clean[ano] = data_clean[ano].fillna(0)\n",
    "\n",
    "#inspection\n",
    "data_clean.head(10)"
   ]
  },
  {
   "cell_type": "code",
   "execution_count": null,
   "metadata": {
    "scrolled": true
   },
   "outputs": [],
   "source": [
    "#Print basic statistics on the new cleaned data set \n",
    "\n",
    "data_clean.describe(include=\"all\")"
   ]
  },
  {
   "cell_type": "markdown",
   "metadata": {},
   "source": [
    "##### Editing Other Species\n",
    "We see that we have other species not mentionned in the column names in the last column. Let us check if they are relevant (in terms of frequency vs. species with dedicated columns):"
   ]
  },
  {
   "cell_type": "code",
   "execution_count": null,
   "metadata": {
    "scrolled": true
   },
   "outputs": [],
   "source": [
    "#splitting the last column as the additional species are comma separated\n",
    "other_f = data_clean['Other_Anopheline_species'].str.split(', ', expand=True)\n",
    "other_f.fillna(0,inplace=True)\n",
    "\n",
    "#counting the occurence in each new column\n",
    "a = other_f[0].value_counts().to_frame()\n",
    "\n",
    "print(a.head(10))\n",
    "\n",
    "#removing the count of 0\n",
    "for i in list(other_f.drop(0,axis=1)):\n",
    "    a = a.join(other_f[i].value_counts().to_frame())\n",
    "a.fillna(0,inplace=True)\n",
    "\n",
    "#summing the columns up to have a definite count\n",
    "pd.DataFrame(a.sum(axis=1).sort_values(ascending = False)[1:,])"
   ]
  },
  {
   "cell_type": "markdown",
   "metadata": {},
   "source": [
    "Let us compare this to the occurences of mosquitos that have dedicated column names"
   ]
  },
  {
   "cell_type": "code",
   "execution_count": null,
   "metadata": {
    "scrolled": true
   },
   "outputs": [],
   "source": [
    "pd.DataFrame(data_clean[ano].sum(axis=0).sort_values(ascending = False))"
   ]
  },
  {
   "cell_type": "markdown",
   "metadata": {},
   "source": [
    "As we can see, there are quite high occuring species in \"Others\". they would rank above An Mouscheti in the primary vector classification. \n",
    "\n",
    "However, and as stated in the abstract, the classification has not be done exclusively on occurence. According to the authors of the dataset, *\"The definition of secondary vectors is complex and often site/time specific\"* We refer to the paper for further information but the main point is that secondary vectors do not transmit paludism to humans, or in very rare cases. \n",
    "\n",
    "For the sake of the exercise and reflecting information of this databse of anopheniles: http://bioinfo-web.mpl.ird.fr/identiciels/anopheles/html/taxa/pretoriensis_A_.html, we will add  An Pretoriensis to the primary vectors as they have been transmitting fever generating arboviruses in Nigeria"
   ]
  },
  {
   "cell_type": "code",
   "execution_count": null,
   "metadata": {
    "scrolled": true
   },
   "outputs": [],
   "source": [
    "An_pretoriensis = data_clean[\"Other_Anopheline_species\"].str.contains(\"An pretoriensis\").fillna(0)*1\n",
    "data_clean.insert(32,\"An_pretoriensis\",An_pretoriensis)"
   ]
  },
  {
   "cell_type": "markdown",
   "metadata": {},
   "source": [
    "#### MetaData analysis\n",
    "Let us explore the metadata associated to the records which is:\n",
    "- Adults/Larvae\n",
    "- Sampling_Methods\n",
    "- Species_Identification\n",
    "\n",
    "We will start with some quick summarizing and plotting\n",
    "\n",
    "##### Species type survey Attributes in time and Space"
   ]
  },
  {
   "cell_type": "code",
   "execution_count": null,
   "metadata": {
    "scrolled": false
   },
   "outputs": [],
   "source": [
    "#plotting the distributionover time using a pivot table\n",
    "AL = data_raw[[\"YeStart\",\"Adults_Larvae\"]]\n",
    "AL_pivot = AL.reset_index().pivot_table(index = \"YeStart\", columns = \"Adults_Larvae\",aggfunc=lambda x: len(x.unique())).fillna(0)\n",
    "AL_pivot.columns = AL_pivot.columns.droplevel()\n",
    "\n",
    "x = AL_pivot.index.values\n",
    "y = np.vstack(AL_pivot[i] for i in AL_pivot.columns)\n",
    "y_norm = (y/y.sum(axis=0))\n",
    "col_names = list(AL_pivot)\n",
    "\n",
    "#plotting using pandas buil-in matplot lib implementation\n",
    "AL_plot = pd.DataFrame(y_norm.T,columns=col_names)\n",
    "AL_plot.index = x\n",
    "AL_plot.plot.bar(stacked = True)\n",
    "\n",
    "#defining additional parameters of the plot\n",
    "ax = plt.gca() \n",
    "ax.set_xticks(range(2,120,10))\n",
    "ax.set_xticklabels(range(1900,2020,10))\n",
    "\n",
    "plt.legend(loc='upper left',ncol=4, mode=\"expand\")\n",
    "plt.title(\"Bar Chart of survey type\")\n",
    "plt.ylim(ymax = 1.2, ymin = 0)\n",
    "plt.show()"
   ]
  },
  {
   "cell_type": "markdown",
   "metadata": {},
   "source": [
    "It appears that over time, surveys focused in particular on Adults but also Larvae are prefered over mixed surveys. This makes sense as it must be easier to distinguish species and to make more accurate surveys. \n",
    "Also, Unknown surveys tend to diminish over time, due to better reporting\n",
    "\n",
    "Let us check if there is a geographical influence:"
   ]
  },
  {
   "cell_type": "code",
   "execution_count": null,
   "metadata": {
    "scrolled": true
   },
   "outputs": [],
   "source": [
    "#function to calculate breaks in a sorted dataframe, which we will use to create subsets to map \n",
    "\n",
    "def get_lim(df,col):\n",
    "    if not isinstance(df, pd.DataFrame):\n",
    "        raise ValueError(\"Input is not a pandas DataFrame\")\n",
    "    if not col in list(df):\n",
    "        raise ValueError(\"Column name is not in the selected dataframe\")\n",
    "    val=df[col].unique()\n",
    "    temp = []\n",
    "    temp_s = [0]\n",
    "    out = []\n",
    "    for i in range(0,len(val)):\n",
    "        temp.append(len(df[df[col]==val[i]]))\n",
    "    for i in range(0,len(val)):\n",
    "        temp_s.append(sum(temp[0:i+1]))\n",
    "    for i in range(0,len(val)):\n",
    "        out.append((temp_s[i],temp_s[i+1]))\n",
    "    return(out)    \n",
    "\n",
    "#function to generate colormaps\n",
    "#source: https://stackoverflow.com/questions/876853/generating-color-ranges-in-python\n",
    "import colorsys\n",
    "\n",
    "def get_N_HexCol(N=5):\n",
    "    HSV_tuples = [(x * 1.0 / N, 0.9, 0.9) for x in range(N)]\n",
    "    hex_out = []\n",
    "    for rgb in HSV_tuples:\n",
    "        rgb = map(lambda x: int(x * 255), colorsys.hsv_to_rgb(*rgb))\n",
    "        hex_out.append('#%02x%02x%02x' % tuple(rgb))\n",
    "    return hex_out"
   ]
  },
  {
   "cell_type": "markdown",
   "metadata": {},
   "source": [
    "We will use Plotly to generate nice interactive Maps. \n",
    "\n",
    "Map tools such as Basemap or folium offer either less quality in interaction with a Jupyter notebook or a not so friendly user experience.\n",
    "\n",
    "Plotly is an open source collaborative tool for generating plots in different languages, with a quite transparent implementation. \n",
    "\n",
    "Documentation can be found here: https://plot.ly/python/\n",
    "\n",
    "There is a hosted version which needs an account and an API key, but we will be using the offline tool (which explains the size of the notebook)\n",
    "\n",
    "The concept is to define a dictionnary with data (defining the coordinates and the caracteristics of the points) and a dictionnary with a layout (defining the appearance of the map). Interactivity is built in, and other features such as sliders and buttons can be added (example beneath). "
   ]
  },
  {
   "cell_type": "code",
   "execution_count": null,
   "metadata": {
    "scrolled": false
   },
   "outputs": [],
   "source": [
    "import plotly as py\n",
    "from plotly import tools\n",
    "\n",
    "#needed to plot offline in the notebook\n",
    "py.offline.init_notebook_mode(connected=True)\n",
    "\n",
    "#selection of the Adults_larvae column and sorting.\n",
    "#We will plot surveys since the 80s only to limit the size of the maps\n",
    "\n",
    "AL_G = data_raw[data_raw[\"YeStart\"]>1980][[\"Adults_Larvae\",\"Lat\",\"Long\"]]\n",
    "AL_G = AL_G.sort_values([\"Adults_Larvae\"])\n",
    "\n",
    "#defining the limits and the color map\n",
    "limits = get_lim(AL_G,\"Adults_Larvae\")\n",
    "colors = get_N_HexCol(len(limits))\n",
    "data = []\n",
    "names=col_names\n",
    "\n",
    "for i in range(len(limits)):\n",
    "    lim = limits[i]\n",
    "    df_sub = AL_G[lim[0]:lim[1]]\n",
    "    data.append(dict(\n",
    "        type = 'scattergeo',\n",
    "        locationmode = 'africa',\n",
    "        lon = df_sub['Long'],\n",
    "        lat = df_sub['Lat'],\n",
    "        marker = dict(\n",
    "            color = colors[i],\n",
    "            line = dict(width=0.5, color='rgb(40,40,40)'),\n",
    "            sizemode = 'area'\n",
    "        ),\n",
    "        name=names[i])\n",
    "               )\n",
    "\n",
    "layout = dict(\n",
    "        title = 'Survey anophenile subject type after 1980',\n",
    "        showlegend = True,\n",
    "        hovermode = False,\n",
    "        geo = dict(\n",
    "            scope='africa',\n",
    "            projection=dict( type='africa' ),\n",
    "            showland = True,\n",
    "            landcolor = 'rgb(185, 185, 185)',\n",
    "            subunitwidth=1,\n",
    "            countrywidth=1,\n",
    "            subunitcolor=\"rgb(200, 200, 200)\",\n",
    "            countrycolor=\"rgb(255, 255, 255)\"\n",
    "        ),\n",
    "    )\n",
    "\n",
    "fig = dict(data=data, layout=layout)\n",
    "py.offline.iplot(fig)"
   ]
  },
  {
   "cell_type": "markdown",
   "metadata": {},
   "source": [
    "From a Geographical perspective, there appears to be no particular preference of survey type since the eighties. \n",
    "However, very few surveys have been conducted in central Africa\n",
    "Plotting before the sixties show that most Central Africa surveys have been conducted before the sixties, with an Unknown methodology concerning subjects. "
   ]
  },
  {
   "cell_type": "code",
   "execution_count": null,
   "metadata": {},
   "outputs": [],
   "source": [
    "AL_G = data_raw[data_raw[\"YeStart\"]<1960][[\"Adults_Larvae\",\"Lat\",\"Long\"]]\n",
    "AL_G = AL_G.sort_values([\"Adults_Larvae\"])\n",
    "\n",
    "#defining the limits and the color map\n",
    "limits = get_lim(AL_G,\"Adults_Larvae\")\n",
    "colors = get_N_HexCol(len(limits))\n",
    "data = []\n",
    "\n",
    "for i in range(len(limits)):\n",
    "    lim = limits[i]\n",
    "    df_sub = AL_G[lim[0]:lim[1]]\n",
    "    data.append(dict(\n",
    "        type = 'scattergeo',\n",
    "        locationmode = 'africa',\n",
    "        lon = df_sub['Long'],\n",
    "        lat = df_sub['Lat'],\n",
    "        marker = dict(\n",
    "            color = colors[i],\n",
    "            line = dict(width=0.5, color='rgb(40,40,40)'),\n",
    "            sizemode = 'area'\n",
    "        ),\n",
    "        name=names[i])\n",
    "               )\n",
    "layout = dict(\n",
    "        title = 'Survey anophenile subject type before 1960',\n",
    "        showlegend = True,\n",
    "        hovermode = False,\n",
    "        geo = dict(\n",
    "            scope='africa',\n",
    "            projection=dict( type='africa' ),\n",
    "            showland = True,\n",
    "            landcolor = 'rgb(185, 185, 185)',\n",
    "            subunitwidth=1,\n",
    "            countrywidth=1,\n",
    "            subunitcolor=\"rgb(200, 200, 200)\",\n",
    "            countrycolor=\"rgb(255, 255, 255)\"\n",
    "        ),\n",
    "    )\n",
    "\n",
    "fig = dict(data=data, layout=layout)\n",
    "py.offline.iplot(fig)   "
   ]
  },
  {
   "cell_type": "markdown",
   "metadata": {},
   "source": [
    "##### Sampling Methods\n",
    "\n",
    "Let us now analysis the sampling methods that have been used\n",
    "We will first compute the top 10 sampling methods\n",
    "\n",
    "Here the abreviations as a reminder:\n",
    "\n",
    "<table class=\"tableizer-table\">\n",
    "<thead><tr class=\"tableizer-firstrow\"><th>Abreviation</th><th>Description</th></tr></thead><tbody>\n",
    " <tr><td>ABC</td><td>Animal Bait Catches</td></tr>\n",
    " <tr><td>Bednet traps</td><td>Bed net traps</td></tr>\n",
    " <tr><td>CDC Light traps</td><td>CDC light traps</td></tr>\n",
    " <tr><td>HBC/NBC</td><td>Human/Night Bait Catches (may be witnin a double sided net)</td></tr>\n",
    " <tr><td>HLC</td><td>Human Landing Catches </td></tr>\n",
    " <tr><td>NBC</td><td>Night Bait Catches</td></tr>\n",
    " <tr><td>IR</td><td>Indoor resting (Often written as room searches, aspirators or hand catches indoors)</td></tr>\n",
    " <tr><td>OS</td><td>Outdoor sampling</td></tr>\n",
    " <tr><td>LC</td><td>Larval Collections</td></tr>\n",
    " <tr><td>Exit traps</td><td>Exit traps</td></tr>\n",
    " <tr><td>PSC </td><td>Pyrethrum Spray Catches</td></tr>\n",
    " <tr><td>ITT </td><td>Ifakara Tent Traps</td></tr>\n",
    "</tbody></table>"
   ]
  },
  {
   "cell_type": "code",
   "execution_count": null,
   "metadata": {
    "scrolled": false
   },
   "outputs": [],
   "source": [
    "top_methods = pd.DataFrame(pd.Series(' '.join(data_clean['Sampling_Methods']+\",\").split(\", \")).value_counts()[:10], columns = [\"Count\"])\n",
    "\n",
    "#let us check the evolution of the top 3 sampling methods over time and of Unknown sampling method (fifth most frequent)\n",
    "\n",
    "print(top_methods[0:5],\"\\n\")\n",
    "\n",
    "M0 = data_clean[data_clean['Sampling_Methods'].str.match(top_methods.index[0])][\"YeStart\"]\n",
    "M1 = data_clean[data_clean['Sampling_Methods'].str.match(top_methods.index[1])][\"YeStart\"]\n",
    "M2 = data_clean[data_clean['Sampling_Methods'].str.match(top_methods.index[2])][\"YeStart\"]\n",
    "MU = data_clean[data_clean['Sampling_Methods'].str.match(\"Unknown\")][\"YeStart\"]\n",
    "\n",
    "#aggregate data \n",
    "M0v = M0.value_counts()\n",
    "M1v = M1.value_counts()\n",
    "M2v = M2.value_counts()\n",
    "MUv = MU.value_counts()\n",
    "\n",
    "conc = pd.concat([M0v,M1v,M2v,MUv],axis=1)\n",
    "conc.columns=[top_methods.index[[0,1,2,4]]]\n",
    "conc.plot.bar(stacked=True)\n",
    "\n",
    "ax = plt.gca() \n",
    "ax.set_xticks(range(2,120,10))\n",
    "ax.set_xticklabels(range(1900,2020,10))\n",
    "plt.title(\"Bar Chart of collection method\")\n",
    "plt.ylim(ymax = 300, ymin = 0)\n",
    "plt.show()"
   ]
  },
  {
   "cell_type": "markdown",
   "metadata": {},
   "source": [
    "We observe a diminution of \"Unknown\" methods over time, again due to better accountability of recent studies. \n",
    "\n",
    "Larval collection is on the rise in the 2000s, after having been used in the 50s and the 60s\n",
    "In-house capture seems to be the more and more used (makes sense as the propagation of malaria is mainly due to anopheniles that attack humans inside their houses)\n",
    "\n",
    "However, there is a prevalence of mixed methods: "
   ]
  },
  {
   "cell_type": "code",
   "execution_count": null,
   "metadata": {
    "scrolled": true
   },
   "outputs": [],
   "source": [
    "multiple_occ = pd.DataFrame([data_clean[\"Sampling_Methods\"],data_clean[\"Sampling_Methods\"].str.count(\", \")+1]).T\n",
    "\n",
    "multiple_occ.columns = [\"Sampling_Methods\",\"Number of Methods\"]\n",
    "multiple_occ.groupby([\"Number of Methods\"]).count().plot.bar()\n",
    "plt.title(\"Number of sampling methods used per survey\")\n",
    "plt.show()\n",
    "\n"
   ]
  },
  {
   "cell_type": "markdown",
   "metadata": {},
   "source": [
    "As we can see, more than half the surveys are using at least two methods. Let us check if there is a historical trend in the numbers of methods used: "
   ]
  },
  {
   "cell_type": "code",
   "execution_count": null,
   "metadata": {},
   "outputs": [],
   "source": [
    "mean_sample = pd.DataFrame([data_clean[\"YeStart\"],np.array([1]*len(data_clean[\"YeStart\"])),np.array([1]*len(data_clean[\"YeStart\"])),data_clean[\"Sampling_Methods\"].str.count(\", \")+1]).T\n",
    "\n",
    "#adding a datetime index to use rolling from pandas\n",
    "mean_sample.columns = [\"year\",\"month\",\"day\",\"count\"]\n",
    "mean_sample[\"date\"] = pd.to_datetime(mean_sample[[\"year\",\"month\",\"day\"]])\n",
    "mean_sample = mean_sample.drop([\"year\",\"month\",\"day\"],axis=1)\n",
    "\n",
    "#comuting rolling avergages\n",
    "m0 = mean_sample.groupby(\"date\").mean().rolling(window = 1).mean()\n",
    "m5 = mean_sample.groupby(\"date\").mean().rolling(window = 5).mean()\n",
    "m20 = mean_sample.groupby(\"date\").mean().rolling(window = 20).mean()\n",
    "\n",
    "out = pd.concat([m0,m5,m20],axis=1)\n",
    "out.columns = [\"1y MA\",\"5Y MA\",\"20Y MA\"]\n",
    "out.plot()\n",
    "plt.title(\"Mean number of sampling methods over time\")\n",
    "plt.show()"
   ]
  },
  {
   "cell_type": "markdown",
   "metadata": {},
   "source": [
    "We see some irregularities at year level. \n",
    "\n",
    "Smoothing them out using moving averages, we can see that the number of sampling methods used in a single survey was high at the beginning of the century, decreased between world wars, increased again in the sixties and is decreasing ever since "
   ]
  },
  {
   "cell_type": "markdown",
   "metadata": {},
   "source": [
    "##### Focus on species indentification\n",
    "\n",
    "Let us see now how species have been identified. As a reminder, the list of abreviations: \n",
    "\n",
    "<table class=\"tableizer-table\">\n",
    "<thead><tr class=\"tableizer-firstrow\"><th>Species ID method</th><th>Description</th></tr></thead><tbody>\n",
    " <tr><td>CBS</td><td>Chromosone Banding </td></tr>\n",
    " <tr><td>DNA</td><td>Sequencing DNA probes</td></tr>\n",
    " <tr><td>M </td><td>Morphology</td></tr>\n",
    " <tr><td>PCR</td><td>Polymerase Chain Reaction</td></tr>\n",
    "</tbody></table>\n",
    "\n",
    "We have only four methods, but a combination of methods can be used: "
   ]
  },
  {
   "cell_type": "code",
   "execution_count": null,
   "metadata": {
    "scrolled": true
   },
   "outputs": [],
   "source": [
    "multiple_id = pd.DataFrame([data_clean[\"Species_Identification\"],data_clean[\"Species_Identification\"].str.count(\", \")+1]).T\n",
    "\n",
    "multiple_id.columns = [\"Species_Identification\",\"Number of Methods\"]\n",
    "multiple_id.groupby([\"Number of Methods\"]).count().plot.bar()\n",
    "plt.title(\"Number of identification methods used per survey\")\n",
    "plt.show()"
   ]
  },
  {
   "cell_type": "markdown",
   "metadata": {},
   "source": [
    "Again, roughly half the surveys have at least two id methods. \n",
    "\n",
    "Does this change over time ?"
   ]
  },
  {
   "cell_type": "code",
   "execution_count": null,
   "metadata": {
    "scrolled": true
   },
   "outputs": [],
   "source": [
    "mean_id = pd.DataFrame([data_clean[\"YeStart\"],data_clean[\"Species_Identification\"].str.count(\", \")+1]).T\n",
    "mean_id.columns = [\"YeStart\",\"Number of Methods\"]\n",
    "mean_id.groupby([\"YeStart\"])[\"Number of Methods\"].mean().plot()\n",
    "plt.title(\"Mean number of identification methods over time\")\n",
    "plt.show()\n"
   ]
  },
  {
   "cell_type": "markdown",
   "metadata": {},
   "source": [
    "We see a slight positive trend from 1 to 2 identification methods between 1960 and 2000. Between 1900 and 1930, there is quite a high volatility in the number of methods used. The value in 1918 is surprising as DNA sequencing was not available at this point (starts in the 80s as we can see on the graph)\n",
    "\n",
    "**Further inspection on these surprising data points**"
   ]
  },
  {
   "cell_type": "code",
   "execution_count": null,
   "metadata": {
    "scrolled": true
   },
   "outputs": [],
   "source": [
    "early_dna  = pd.DataFrame([data_clean[\"YeStart\"],data_clean[\"Species_Identification\"],data_clean[\"Species_Identification\"].str.count(\", \")+1,data_raw[\"Source_Title\"]]).T\n",
    "early_dna.columns= [\"YeStart\",\"Species_Identification\",\"Count\",\"Source_Title\"]\n",
    "early_dna[(early_dna[\"Species_Identification\"].str.contains(\"DNA\")) & (early_dna[\"YeStart\"]<1950)].sort_values(\"YeStart\")\n"
   ]
  },
  {
   "cell_type": "markdown",
   "metadata": {},
   "source": [
    "There appears to be a limited number of studies mentionning DNA as a source before the 50s. \n",
    "This would be worth having a look into, and determining what exactly was ment. \n",
    "\n",
    "Here is the list of the studies: "
   ]
  },
  {
   "cell_type": "code",
   "execution_count": null,
   "metadata": {
    "scrolled": true
   },
   "outputs": [],
   "source": [
    "values_early_dna = early_dna[(early_dna[\"Species_Identification\"].str.contains(\"DNA\")) & (early_dna[\"YeStart\"]<1940)].sort_values(\"YeStart\")\n",
    "\n",
    "values_early_dna[\"Source_Title\"].str.slice(0,50).value_counts()"
   ]
  },
  {
   "cell_type": "markdown",
   "metadata": {},
   "source": [
    "These studies would be worth looking into, in particular Kumm HW and Symes CB as they account for 16 of the occurences. \n",
    "\n",
    "Let us check now what method is the prefered method when only one is chosen:"
   ]
  },
  {
   "cell_type": "code",
   "execution_count": null,
   "metadata": {
    "scrolled": true
   },
   "outputs": [],
   "source": [
    "single_id = pd.DataFrame([data_clean[\"Species_Identification\"],data_clean[\"Species_Identification\"].str.count(\", \")+1]).T\n",
    "single_id.columns = [\"Species_Identification\",\"Number of Methods\"]\n",
    "single_id_out = single_id[single_id[\"Number of Methods\"] == 1]\n",
    "single_id_out.groupby([\"Species_Identification\"]).sum()\n"
   ]
  },
  {
   "cell_type": "markdown",
   "metadata": {},
   "source": [
    "Every time a single method has been used (roughly 50% of studies), it was a morphological analysis. \n",
    "\n",
    "As such, it is confirmed that other methods come on top to validate this morphological approach. \n",
    "\n",
    "Let us check the percent of single morphological studies over time: "
   ]
  },
  {
   "cell_type": "code",
   "execution_count": null,
   "metadata": {
    "scrolled": true
   },
   "outputs": [],
   "source": [
    "single_id = pd.DataFrame([data_clean[\"YeStart\"],data_clean[\"Species_Identification\"],data_clean[\"Species_Identification\"].str.count(\", \")+1]).T\n",
    "single_id.columns = [\"YeStart\",\"Species_Identification\",\"Number of Methods\"]\n",
    "single_id_out = single_id[single_id[\"Number of Methods\"] == 1]\n",
    "\n",
    "single_count = single_id_out.groupby([\"YeStart\"]).sum()[\"Number of Methods\"]\n",
    "total_count = data_clean[\"YeStart\"].value_counts()\n",
    "\n",
    "out = pd.concat([single_count,total_count],axis=1)\n",
    "out.columns = [\"single\",\"total\"]\n",
    "\n",
    "out_p = out.single/out.total\n",
    "out_p.plot()\n",
    "plt.title(\"Fraction of single test surveys over time\")\n",
    "plt.show()"
   ]
  },
  {
   "cell_type": "markdown",
   "metadata": {},
   "source": [
    "The trend is clearly decreasing, indicating that as time goes by, scientist have been more and more using multiple methods to identify anophenile vectore in Africa. \n",
    "\n",
    "Let us have a look at the geography of the identification methods, to see, again if there is a preference. "
   ]
  },
  {
   "cell_type": "code",
   "execution_count": null,
   "metadata": {
    "scrolled": true
   },
   "outputs": [],
   "source": [
    "M_G = data_raw[data_raw[\"YeStart\"]>1960][[\"Species_Identification\",\"Lat\",\"Long\"]]\n",
    "\n",
    "M_G = M_G.sort_values([\"Species_Identification\"])\n",
    "M_G_s = M_G.copy()\n",
    "M_G_s.Species_Identification = M_G.Species_Identification.str.strip(\"M, \")\n",
    "\n",
    "M_G_s = pd.concat([M_G_s,M_G_s.Species_Identification.str.count(\", \")+1],axis=1)\n",
    "\n",
    "M_G_s.columns = [\"Id\",\"Lat\",\"Long\",\"Count\"]\n",
    "M_G_s.Id.replace(\"\",\"M\",inplace=True)\n",
    "\n",
    "M_G_plot = M_G_s[M_G_s[\"Count\"]<2][[\"Id\",\"Lat\",\"Long\"]]\n",
    "M_G_plot = M_G_plot.sort_values([\"Id\"])\n",
    "M_G_plot = M_G_plot[M_G_plot.Id.isin(M_G_plot.Id.value_counts().index[M_G_plot.Id.value_counts()>10].values)]\n",
    "\n",
    "\n",
    "limits = get_lim(M_G_plot,\"Id\")\n",
    "colors = get_N_HexCol(len(limits))\n",
    "data = []\n",
    "names= M_G_plot.Id.value_counts().index[M_G_plot.Id.value_counts()>10].values\n",
    "\n",
    "for i in range(len(limits)):\n",
    "    lim = limits[i]\n",
    "    df_sub = AL_G[lim[0]:lim[1]]\n",
    "    data.append(dict(\n",
    "        type = 'scattergeo',\n",
    "        locationmode = 'africa',\n",
    "        lon = df_sub['Long'],\n",
    "        lat = df_sub['Lat'],\n",
    "        marker = dict(\n",
    "            color = colors[i],\n",
    "            line = dict(width=0.5, color='rgb(40,40,40)'),\n",
    "            sizemode = 'area'\n",
    "        ),\n",
    "        name=names[i]))\n",
    "    \n",
    "layout = dict(\n",
    "        title = 'Identification methods of anophenile vectors after 1960',\n",
    "        showlegend = True,\n",
    "        hovermode = False,\n",
    "        geo = dict(\n",
    "            scope='africa',\n",
    "            projection=dict( type='africa' ),\n",
    "            showland = True,\n",
    "            landcolor = 'rgb(185, 185, 185)',\n",
    "            subunitwidth=1,\n",
    "            countrywidth=1,\n",
    "            subunitcolor=\"rgb(200, 200, 200)\",\n",
    "            countrycolor=\"rgb(255, 255, 255)\"\n",
    "        ),\n",
    "    )\n",
    "\n",
    "fig = dict( data=data, layout=layout )\n",
    "py.offline.iplot(fig)"
   ]
  },
  {
   "cell_type": "markdown",
   "metadata": {},
   "source": [
    "\n",
    "This is quite interesting as it appears some methods have been used very locally, such as the XXX method. \n",
    "Other methods seem to be in use all over Africa with a small number of marginal methods (less than 10 occurences). "
   ]
  },
  {
   "cell_type": "markdown",
   "metadata": {},
   "source": [
    "#### Mosquito survey repartition by species: historical and geographical analysis\n",
    "\n",
    "Here follows a geographical analysis of mosquito species repartition over time\n",
    "\n",
    "##### Evolution of a particular species over time"
   ]
  },
  {
   "cell_type": "code",
   "execution_count": null,
   "metadata": {
    "scrolled": false
   },
   "outputs": [],
   "source": [
    "mosquitos = [\"An_gambiae_complex\",\"An_paludis_\",\"An_coustani_s_l\",\"An_squamous\",\"An_arabiensis\",\"An_funestus__s_l\"]\n",
    "lim_dates=[1898,1930,1970,2016]\n",
    "data_test = []\n",
    "y_colours = [\"yellow\",\"blue\",\"red\"]\n",
    "\n",
    "layout = dict(\n",
    "    title = 'African Mosquitos surveys over time and species',\n",
    "    autosize = False,\n",
    "    hovermode = False,\n",
    "    width = 1000,\n",
    "    height = 900,\n",
    "    font=dict(family='Arial', size=9),\n",
    "    )\n",
    "\n",
    "layout[\"geo\"] = dict(\n",
    "        scope='africa',\n",
    "        showland = True,\n",
    "        landcolor = 'rgb(217, 217, 217)',\n",
    "        subunitwidth=1,\n",
    "        countrywidth=1,\n",
    "        subunitcolor=\"rgb(255, 255, 255)\",\n",
    "        countrycolor=\"rgb(255, 255, 255)\",\n",
    "        domain = dict( x = [], y = []))\n",
    "\n",
    "for i in range(len(mosquitos)):\n",
    "    for j in range(0,3):\n",
    "        geo_key = 'geo'+str(i+1)+str(j+1)\n",
    "        df = data_clean.query(str(lim_dates[j])+'<= YeStart <='+str(lim_dates[j+1]))#+\" and Adults_Larvae == 'Adults, Larvae'\")\n",
    "        lons = list(df[df[mosquitos[i]] == 1]['Long'])\n",
    "        lats = list(df[df[mosquitos[i]] == 1]['Lat'])\n",
    "    \n",
    "        data_test.append(\n",
    "        dict(\n",
    "            type = 'scattergeo',\n",
    "            showlegend=False,\n",
    "            lon = lons,\n",
    "            lat = lats,\n",
    "            geo = geo_key,\n",
    "            marker = dict(\n",
    "                color = y_colours[j],\n",
    "                line = dict(width=0.5, color='rgb(155,187,23)'),\n",
    "                sizemode = 'area'),\n",
    "            name = 'Presence of'+mosquitos[i]\n",
    "        )\n",
    "    )\n",
    "        ####plot legend\n",
    "        data_test.append(\n",
    "        dict(\n",
    "            type = 'scattergeo',\n",
    "            showlegend = False,\n",
    "            lon = [15],\n",
    "            lat = [30],\n",
    "            geo = geo_key,\n",
    "            text = [mosquitos[i]+'<br>'+str(lim_dates[j])+'-'+str(lim_dates[j+1])],\n",
    "            mode = 'text',\n",
    "        )\n",
    "    )\n",
    "       \n",
    "        layout[geo_key] = dict(\n",
    "        scope='africa',\n",
    "        showland = True,\n",
    "        landcolor = 'rgb(217, 217, 217)',\n",
    "        subunitwidth=1,\n",
    "        countrywidth=1,\n",
    "        subunitcolor=\"rgb(255, 255, 255)\",\n",
    "        countrycolor=\"rgb(255, 255, 255)\",\n",
    "        domain = dict( x = [], y = []),\n",
    "    )\n",
    "\n",
    "z = 0\n",
    "COLS = 3\n",
    "ROWS = 6\n",
    "for y in reversed(range(ROWS)):\n",
    "    for x in range(COLS):\n",
    "        geo_key = 'geo'+str(ROWS-y)+str(x+1)\n",
    "        layout[geo_key]['domain']['x'] = [float(x)/float(COLS), float(x+1)/float(COLS)]\n",
    "        layout[geo_key]['domain']['y'] = [float(y)/float(ROWS), float(y+1)/float(ROWS)]\n",
    "        z=z+1\n",
    "        if z > 20:\n",
    "            break\n",
    "\n",
    "fig = {'data':data_test, 'layout':layout}\n",
    "\n",
    "py.offline.iplot(fig, filename='Mosquitos')"
   ]
  },
  {
   "cell_type": "code",
   "execution_count": null,
   "metadata": {
    "scrolled": false
   },
   "outputs": [],
   "source": [
    "\n",
    "i=0\n",
    "sl_dates = list(range(1900,2011,10)) + [2016]\n",
    "colors = get_N_HexCol(len(mosquitos))\n",
    "data = []\n",
    "\n",
    "for j in range(len(sl_dates)-1):\n",
    "    df = data_clean.query(str(sl_dates[j])+'<= YeStart <='+str(sl_dates[j+1]))\n",
    "    df = df[df[mosquitos[i]] == 1]\n",
    "    df['text'] = df['Country'] + '<br>Year ' + (df['YeStart']).astype(str)    \n",
    "    \n",
    "    data.append(dict(\n",
    "        type = 'scattergeo',\n",
    "        visible = False,\n",
    "        locationmode = 'africa',\n",
    "        lon = df['Long'],\n",
    "        lat = df['Lat'],\n",
    "        text = df['text'],\n",
    "        geo = 'geo',\n",
    "        marker = dict(\n",
    "            color = colors[i],\n",
    "            line = dict(width=0.5, color='rgb(155,187,23)'),\n",
    "            sizemode = 'area'\n",
    "            ),\n",
    "        name = 'Presence of '+mosquitos[i]+' '+str(sl_dates[j])+'-'+str(sl_dates[j+1])))    \n",
    "steps = []\n",
    "for k in range(len(data)):\n",
    "    step = dict(\n",
    "        method = 'restyle',\n",
    "        args = ['visible', [False] * len(data)],\n",
    "    )\n",
    "    step['args'][1][k] = True # Toggle i'th trace to \"visible\"\n",
    "    steps.append(step)\n",
    "    \n",
    "sliders = [dict(\n",
    "    active = 0,\n",
    "    currentvalue = {\"prefix\": \"Period: \"},\n",
    "    pad = {\"t\": len(sl_dates)-1},\n",
    "    steps = steps\n",
    ")]\n",
    "\n",
    "layout = dict(\n",
    "        title = mosquitos[i]+' presence in surveys over time',\n",
    "        showlegend = True,\n",
    "        xaxis = dict(fixedrange=True),\n",
    "        geo = dict(\n",
    "            scope='africa',\n",
    "            showland = True,\n",
    "            landcolor = 'rgb(217, 217, 217)',\n",
    "            subunitwidth=1,\n",
    "            countrywidth=1,\n",
    "            subunitcolor=\"rgb(255, 255, 255)\",\n",
    "            countrycolor=\"rgb(255, 255, 255)\"\n",
    "        ),\n",
    "        sliders=sliders\n",
    "    )\n",
    "\n",
    "fig = dict(data=data, layout=layout)\n",
    "py.offline.iplot(fig, filename='Slider')\n"
   ]
  },
  {
   "cell_type": "markdown",
   "metadata": {},
   "source": [
    "Now that we observed the mosquito species repartition over Africa, let us now compare it to \n",
    "the distribution of Anopheline vectors across the African continent."
   ]
  },
  {
   "cell_type": "code",
   "execution_count": null,
   "metadata": {
    "scrolled": true
   },
   "outputs": [],
   "source": [
    "data_clean['text'] = data_clean['Country'] + '<br>Year ' + (data_clean['YeStart']).astype(str)  #Text written on the interactive map\n",
    "limits = [(1,len(data_clean))]            # We take all the dataset as values considered\n",
    "colors = [\"rgb(155,187,23)\"]      # Green color (see \"rgb color picker\" on Google)\n",
    "\n",
    "\n",
    "#Now that we decided which points are we going to study, we now decide how to plot them, with\n",
    "#the function 'dict'. We comment all its components.\n",
    "Cases_Malaria = dict(                   \n",
    "    type = 'scattergeo',\n",
    "    locationmode = 'africa',      # We choose Africa, so that we have the African continent plotted\n",
    "    lon = data_clean['Long'],             \n",
    "    lat = data_clean['Lat'],              #lon and lat are the coordinates of the points\n",
    "    text = data_clean['text'],            #text written when we select a point\n",
    "    marker = dict(\n",
    "        color = colors,\n",
    "        line = dict(width=0.5, color='rgb(155,187,23)'),\n",
    "        sizemode = 'area'\n",
    "    ),\n",
    "    name = 'Presence of Anopheline vectors') #legend\n",
    "\n",
    "#Now, we are going to decide how to lay out our graph, still with function \"dict\".\n",
    "    \n",
    "graph = dict( \n",
    "        title = 'Geographical Distribution of Anopheline Vectors in Africa',     #Title of the graph\n",
    "        showlegend = True,\n",
    "        geo = dict(\n",
    "            scope='africa',\n",
    "            showland = True,\n",
    "            landcolor = 'rgb(217, 217, 217)',                       #Color of the continent (light grey)\n",
    "            subunitwidth=1,\n",
    "            countrywidth=1,\n",
    "            subunitcolor=\"rgb(255, 255, 255)\",\n",
    "            countrycolor=\"rgb(255, 255, 255)\"                      #Color of the frontiers (white)\n",
    "        ),\n",
    "    )\n",
    "\n",
    "firstgraph = dict( data=[Cases_Malaria], layout=graph )\n",
    "py.offline.iplot( firstgraph, validate=False, filename='Presence of Anopheline in Africa' )  #Plot with plotly"
   ]
  },
  {
   "cell_type": "markdown",
   "metadata": {},
   "source": [
    "Let us now plot a graph describing the presence of Anopheline vectors across the decades in Africa :"
   ]
  },
  {
   "cell_type": "code",
   "execution_count": null,
   "metadata": {},
   "outputs": [],
   "source": [
    "year_dat = data_raw[[\"YeStart\"]]                 #We get rid of all useless columns in this case\n",
    "year_dat = year_dat.sort_values([\"YeStart\"])     #We sort the dataset\n",
    "a=get_lim(year_dat,\"YeStart\")                    #We get all \"limits\", that we will use 3 lines below   \n",
    "\n",
    "df = pd.read_csv('https://raw.githubusercontent.com/SebastianS09/Malaria/master/Data/Malaria.csv')\n",
    "df=df.sort_values(['YeStart'])\n",
    "\n",
    "df['text'] = df['Country'] + '<br>Year ' + (df['YeStart']).astype(str)\n",
    "\n",
    "a10=a[12][1]     #a[x][y] is equal to : \n",
    "a11=a10+1        #                     - If y=1 : a[x][1] gives the last index for the value x in the dataset\n",
    "a30=a[32][1]\n",
    "a31=a30+1        #                     - If y=0 : a[x][0] gives the first index for the values x\n",
    "a50=a[52][1]\n",
    "a51=a50+1\n",
    "a70=a[72][1]     # For example, for 1910, since it is our 12th year of the dataset (starts at 1898)\n",
    "a71=a70+1        # we write a[12] to find the first and final index for the year 1910.\n",
    "a90=a[92][1]\n",
    "a91=a90+1\n",
    "a216=len(df)\n",
    "\n",
    "#Now, let's put \"limits\" for each two-decades. Each two-decades will be assigned a color in the plot.\n",
    "\n",
    "limits = [(1,a10),(a11,a30),(a31,a50),(a51,a70),(a71,a90),(a91,a216)]\n",
    "# limits =[(1898,1910),(1911,1930),(1931,1950),(1951,1970),(1971,1990),(1991,2016)]\n",
    "colors = [\"rgb(0,116,217)\",\"rgb(255,65,54)\",\"rgb(133,20,75)\",\"rgb(255,133,27)\",\"rgb(110,133,58)\",\"rgb(45,187,23)\",\"lightgrey\"]\n",
    "all_cases_ever = []\n",
    "names=['1890-1910','1911-1930','1931-1950','1951-1970','1971-1990','1991-2016'] \n"
   ]
  },
  {
   "cell_type": "code",
   "execution_count": null,
   "metadata": {},
   "outputs": [],
   "source": [
    "\n",
    "for i in range(len(limits)):\n",
    "    lim = limits[i]\n",
    "    df_sub = df[lim[0]:lim[1]]\n",
    "    mal_case = dict(\n",
    "        type = 'scattergeo',\n",
    "        locationmode = 'africa',\n",
    "        lon = df_sub['Long'],\n",
    "        lat = df_sub['Lat'],\n",
    "        text = df_sub['text'],\n",
    "        marker = dict(\n",
    "            color = colors[i],\n",
    "            line = dict(width=0.5, color='rgb(40,40,40)'),\n",
    "            sizemode = 'area'\n",
    "        ),\n",
    "        \n",
    "        name=names[i] )\n",
    "\n",
    "        \n",
    "    all_cases_ever.append(mal_case)\n",
    "    \n",
    "    \n",
    "graph2 = dict(\n",
    "        title = 'Distribution of anopheline vectors across decades',\n",
    "        showlegend = True,\n",
    "        geo = dict(\n",
    "            scope='africa',\n",
    "            projection=dict( type='africa' ),\n",
    "            showland = True,\n",
    "            landcolor = 'rgb(185, 185, 185)',\n",
    "            subunitwidth=1,\n",
    "            countrywidth=1,\n",
    "            subunitcolor=\"rgb(200, 200, 200)\",\n",
    "            countrycolor=\"rgb(255, 255, 255)\"\n",
    "        ),\n",
    "    )\n",
    "\n",
    "secondgraph = dict( data=all_cases_ever, layout=graph2 )\n",
    "py.offline.iplot( secondgraph, validate=False, filename='Presence_anopheline_accross_decades' )"
   ]
  },
  {
   "cell_type": "markdown",
   "metadata": {},
   "source": [
    "#### Data inspection tools\n",
    "\n",
    "As a second step we will write some tools (functions), that will allow us to inspect parts of the data, in particular to extract records of the dataset and to present them in a new and interesting fashion\n",
    "\n",
    "- function to get all the mosquitos associated to a country and a time frame\n",
    "- function to get all the records near a given point of interest \n",
    "- function to XXX"
   ]
  },
  {
   "cell_type": "code",
   "execution_count": null,
   "metadata": {
    "scrolled": true
   },
   "outputs": [],
   "source": [
    "from geopy.geocoders import Nominatim\n",
    "\n",
    "def get_coord(x):\n",
    "    if not isinstance(x,str):\n",
    "         raise ValueError(\"Not a String\")\n",
    "    geolocator = Nominatim()\n",
    "    if geolocator.geocode(x) == None:\n",
    "        raise ValueError(\"Input not recognized\")\n",
    "    location = geolocator.geocode(x)\n",
    "    return((location.latitude, location.longitude))\n",
    "\n",
    "def geo_africa_check(coord):\n",
    "    lat = coord[0]\n",
    "    long = coord[1]\n",
    "    return -36 < lat < 36 , -26 < long < 54\n",
    "    \n",
    "#https://stackoverflow.com/questions/4913349/haversine-formula-in-python-bearing-and-distance-between-two-gps-points\n",
    "#formula to calculate distance between two points (km)\n",
    "\n",
    "def haversine(lat1, lon1, lat2, lon2):\n",
    "    # convert decimal degrees to radians \n",
    "    lon1, lat1, lon2, lat2 = map(np.radians, [lon1, lat1, lon2, lat2])\n",
    "\n",
    "    # haversine formula \n",
    "    dlon = lon2 - lon1 \n",
    "    dlat = lat2 - lat1 \n",
    "    a = np.sin(dlat/2)**2 + np.cos(lat1) * np.cos(lat2) * np.sin(dlon/2)**2\n",
    "    c = 2 * np.arcsin(np.sqrt(a)) \n",
    "    r = 6371 # Radius of earth in kilometers. Use 3956 for miles\n",
    "    return np.multiply(c,r)\n"
   ]
  },
  {
   "cell_type": "code",
   "execution_count": null,
   "metadata": {},
   "outputs": [],
   "source": [
    "import warnings\n",
    "\n",
    "def true_mosquito(mosquito,df=data_clean):\n",
    "    val= 'FALSE'\n",
    "    for i in df.columns:\n",
    "        if mosquito==i:\n",
    "            val='TRUE'\n",
    "        \n",
    "    return val\n",
    "                \n",
    "\n",
    "def list_countries(df=data_clean):\n",
    "    return np.unique(df['Country'])\n",
    "\n",
    "\n",
    "def observations_near(x,km=500):    \n",
    "    #coordinates exist :\n",
    "    try:\n",
    "        if geo_africa_check(get_coord(x)) != (True,True):\n",
    "            warnings.warn(\"Specified place out of range: not in target African zone!\")\n",
    "    except:\n",
    "        raise ValueError(\"Entered place does not exist, check spelling / existence\")\n",
    "    #check distance\n",
    "    if not (isinstance(km,int) or isinstance(km,float)):\n",
    "        raise ValueError(\"Please enter distance as integer or float\")\n",
    "\n",
    "    #create arrays of coordinated of point of interst \n",
    "    p_lat = np.array([get_coord(x)[0]]*len(data_clean[\"Lat\"]))\n",
    "    p_lon = np.array([get_coord(x)[1]]*len(data_clean[\"Long\"]))\n",
    "    \n",
    "    #compute distance and return points with distance less than specified km\n",
    "    return(data_clean[(haversine(p_lat,p_lon,data_clean[\"Lat\"],data_clean[\"Long\"])<km)])\n",
    "\n"
   ]
  },
  {
   "cell_type": "code",
   "execution_count": null,
   "metadata": {
    "scrolled": false
   },
   "outputs": [],
   "source": [
    "def plot_observations_near(x,km=500,segmentation=\"None\"):\n",
    "    try: \n",
    "        inp=observations_near(x,km)\n",
    "    except: \n",
    "        raise ValueError(\"Check Inputs\")\n",
    "    if segmentation not in list(inp)+[\"None\"]:\n",
    "        raise ValueError(\"desired segmentation not available, please choose from: \"+str(list(df)))\n",
    "    if inp.empty:\n",
    "        raise ValueError(\"No data in requested zone\")\n",
    "    if segmentation == \"None\":\n",
    "        limits = [(0,len(inp[\"Lat\"]))]\n",
    "        names = [\"All records\"]\n",
    "    else:\n",
    "        inp = inp.sort_values(segmentation)\n",
    "        limits = get_lim(inp,segmentation)\n",
    "        names = inp[segmentation].value_counts().index\n",
    "\n",
    "    colors = get_N_HexCol(len(limits))\n",
    "    data = []\n",
    "    \n",
    "    for i in range(len(limits)):\n",
    "        lim = limits[i]\n",
    "        df_sub = inp[lim[0]:lim[1]]\n",
    "        data.append(dict(\n",
    "            type = 'scattergeo',\n",
    "            locationmode = 'africa',\n",
    "            lon = df_sub['Long'],\n",
    "            lat = df_sub['Lat'],\n",
    "            geo = 'geo',\n",
    "            marker = dict(\n",
    "                color = colors[i],\n",
    "                line = dict(width=0.5, color='rgb(40,40,40)'),\n",
    "                sizemode = 'area'),\n",
    "            name=names[i])\n",
    "                   )\n",
    "    \n",
    "    layout = dict(\n",
    "        title = 'Plot of observation less than '+str(km)+' km from '+str(x),\n",
    "        showlegend = True,\n",
    "        hovermode = False,\n",
    "        geo = dict(\n",
    "            scope='africa',\n",
    "            projection=dict( type='africa' ),\n",
    "            showland = True,\n",
    "            landcolor = 'rgb(185, 185, 185)',\n",
    "            subunitwidth=1,\n",
    "            countrywidth=1,\n",
    "            subunitcolor=\"rgb(200, 200, 200)\",\n",
    "            countrycolor=\"rgb(255, 255, 255)\"\n",
    "            ),\n",
    "        )\n",
    "\n",
    "    fig = dict( data=data, layout=layout)\n",
    "    py.offline.iplot(fig)"
   ]
  },
  {
   "cell_type": "code",
   "execution_count": null,
   "metadata": {},
   "outputs": [],
   "source": [
    "plot_observations_near(\"Nairobi\",500,\"Country\")"
   ]
  },
  {
   "cell_type": "markdown",
   "metadata": {},
   "source": [
    "#### Prospective analysis: number of malaria studies per country"
   ]
  },
  {
   "cell_type": "markdown",
   "metadata": {},
   "source": [
    "We will try to estimate the numbers of surveys that will be conducted in a given country.\n",
    "\n",
    "This data can be usefull when linked to other studies, for example Malaria occurences counts. It may reveal that too many resources are being allocated to one country, when it could be more usefull to allocate these ressources to another country. Indeed, studying the repartition of mosquito species in countries with high malaria counts / prospective malaria counts is more useful, as it may allow to developp tools aimed at that particular local mosquito species. \n",
    "\n",
    "First, let us extract the relevant data and plot the evolution of time of the number of surveys per country:"
   ]
  },
  {
   "cell_type": "code",
   "execution_count": null,
   "metadata": {
    "scrolled": false
   },
   "outputs": [],
   "source": [
    "studies = data_clean[[\"Country\",\"YeStart\",\"YeEnd\"]].groupby([\"Country\",\"YeStart\"]).count()\n",
    "\n",
    "#setting the year as the index\n",
    "studies.reset_index(level=0, inplace=True)\n",
    "\n",
    "studies.columns = [\"Country\",\"Count\"]\n",
    "\n",
    "studies.Count.groupby(\"YeStart\").sum().plot()\n",
    "plt.title(\"Number of surveys per year\")\n",
    "plt.show()\n",
    "\n",
    "#example of a record\n",
    "studies.loc[[1960]]\n",
    "\n",
    "#let us check the number of records per country:\n",
    "\n",
    "print(studies.groupby(\"Country\").count().sort_values(\"Count\",ascending = False).head(20))\n",
    "studies.groupby(\"Country\").count().sort_values(\"Count\",ascending = False).describe()"
   ]
  },
  {
   "cell_type": "markdown",
   "metadata": {},
   "source": [
    "As we can see, the number of records is sadly not enough (mean number of records being 28, so that over a period of more than a century you have only 28 years with a record).\n",
    "\n",
    "This value around 1950 is surprising, for safety we will normalize it:"
   ]
  },
  {
   "cell_type": "code",
   "execution_count": null,
   "metadata": {},
   "outputs": [],
   "source": [
    "studies.loc[1952]\n",
    "#looks like Madagascar\n",
    "data_raw[(data_raw[\"YeStart\"] == 1952) & (data_raw[\"Country\"] == \"Madagascar\")][\"Source_Title\"].value_counts().head(2)"
   ]
  },
  {
   "cell_type": "markdown",
   "metadata": {},
   "source": [
    "This study counts for 861 records because it compiles all previous studies of Madagascar insects. \n",
    "Let us put this number back to a reasonnable number like 10 (second study with the most surveys)"
   ]
  },
  {
   "cell_type": "code",
   "execution_count": null,
   "metadata": {},
   "outputs": [],
   "source": [
    "studies.loc[studies.Count==937,\"Count\"] = 10\n",
    "studies[studies[\"Country\"]==\"Madagascar\"].loc[1952][\"Count\"] \n"
   ]
  },
  {
   "cell_type": "markdown",
   "metadata": {},
   "source": [
    "Let us plot this data and then proceed to group countries by a larger index to aggregate data. "
   ]
  },
  {
   "cell_type": "code",
   "execution_count": null,
   "metadata": {},
   "outputs": [],
   "source": [
    "import plotly as py\n",
    "py.offline.init_notebook_mode(connected=True)\n",
    "\n",
    "data = []\n",
    "ind = studies.index.unique().sort_values()\n",
    "for i in ind:\n",
    "\n",
    "    study = studies.loc[[i]]\n",
    "    \n",
    "    data.append(dict(\n",
    "        type = 'choropleth',\n",
    "        visible = False,\n",
    "        locations = study['Country'],\n",
    "        locationmode = 'country names',\n",
    "        z = study['Count'],\n",
    "        #text = study['Country'],\n",
    "        colorscale='Volcano',\n",
    "        colorbar = dict(\n",
    "            title = 'Number of surveys per country - '+str(i) + \"<br> total surveys:\"+str(sum(study['Count'])))\n",
    "      )\n",
    "               )\n",
    "\n",
    "dates = []\n",
    "for k in range(len(ind)):\n",
    "    step = dict(\n",
    "        method = 'restyle',\n",
    "        args = ['visible', [False] * len(ind)],\n",
    "        label = str(k+1898)\n",
    "    )\n",
    "    step['args'][1][k] = True # Toggle i'th trace to \"visible\"\n",
    "    dates.append(step)\n",
    "    \n",
    "sliders = [dict(\n",
    "    active = 0,\n",
    "    currentvalue = {\"prefix\": \"Date: \"},\n",
    "    pad = {\"t\": len(ind)},\n",
    "    steps = dates\n",
    ")]\n",
    "                \n",
    "layout = dict(\n",
    "        title = 'Evolution of number of surveys in Sub-Saharian Africa',\n",
    "        showlegend = True,\n",
    "        hovermode = True,\n",
    "        geo = dict(\n",
    "            scope='africa',\n",
    "            projection=dict( type='africa' ),\n",
    "            showland = True,\n",
    "            landcolor = 'rgb(300, 300, 300)',\n",
    "            subunitwidth=1,\n",
    "            countrywidth=1,\n",
    "            subunitcolor=\"rgb(255, 255, 255)\",\n",
    "            countrycolor=\"rgb(100, 100, 100)\"\n",
    "            ),\n",
    "        sliders=sliders\n",
    ")\n",
    "\n",
    "fig = dict( data=data, layout=layout )\n",
    "py.offline.iplot(fig)"
   ]
  },
  {
   "cell_type": "markdown",
   "metadata": {},
   "source": [
    "Let us regroup countries now by using the UN subregion categorization (https://en.wikipedia.org/wiki/United_Nations_geoscheme) \n",
    "There wille be 5 groups: \n",
    "- Eastern Africa\n",
    "- Middle Africa\n",
    "- Northern Africa\n",
    "- Southern Africa\n",
    "- Western Africa\n",
    "\n",
    "We will use this source https://github.com/lukes/ISO-3166-Countries-with-Regional-Codes/blob/master/all/all.csv for attributing countries."
   ]
  },
  {
   "cell_type": "code",
   "execution_count": null,
   "metadata": {
    "scrolled": false
   },
   "outputs": [],
   "source": [
    "UN_ctr = pd.read_csv(\"https://raw.githubusercontent.com/lukes/ISO-3166-Countries-with-Regional-Codes/master/all/all.csv\")\n",
    "\n",
    "\n",
    "def UN_code(ctr):\n",
    "    \n",
    "    try:\n",
    "        out = UN_ctr[UN_ctr.name == ctr][\"sub-region\"].values[0]\n",
    "        return(out)\n",
    "\n",
    "    except: \n",
    "        warnings.warn(ctr+\" not in list\")\n",
    "        return(\"not found\")\n",
    "\n",
    "studies.Country.apply(lambda x: UN_code(x))\n",
    "\n",
    "#let us inspect the warnings and add them manually\n",
    "new_ctr = pd.DataFrame(columns = UN_ctr.columns)\n",
    "list =[[\"Cape Verde\",\"\",\"\",\"\",\"\",\"\",\"Western Africa\",\"\",\"\"],\\\n",
    "[\"Democratic Republic of the Congo\",\"\",\"\",\"\",\"\",\"\",\"Middle Africa\",\"\",\"\"],\\\n",
    "[\"Guinea Bissau\",\"\",\"\",\"\",\"\",\"\",\"Western Africa\",\"\",\"\"],\\\n",
    "[\"Tanzania\",\"\",\"\",\"\",\"\",\"\",\"Eastern Africa\",\"\",\"\"],\\\n",
    "[\"Zanzibar\",\"\",\"\",\"\",\"\",\"\",\"Eastern Africa\",\"\",\"\"]]\n",
    "\n",
    "for i in range(len(list)):\n",
    "    new_ctr.loc[i] = list[i]\n",
    "    \n",
    "UN_ctr = UN_ctr.append(new_ctr)\n",
    "\n",
    "studies[\"Region\"] = studies.Country.apply(lambda x: UN_code(x))\n",
    "\n",
    "print(studies.head(20))\n"
   ]
  },
  {
   "cell_type": "code",
   "execution_count": null,
   "metadata": {},
   "outputs": [],
   "source": [
    "#let us aggregate at region level for later analysis purposes\n",
    "studies_r = studies.groupby([\"YeStart\",\"Region\"]).sum().reset_index(level = 1)\n",
    "studies_r = studies_r.reset_index()\n",
    "\n",
    "##let us aggregate at region level for plotting purposes\n",
    "plot_region = studies_r.reset_index()\n",
    "plot_region = plot_region.merge(UN_ctr[[\"name\",\"sub-region\"]], left_on = 'Region', right_on = 'sub-region')[[\"YeStart\",\"Count\",\"name\",\"Region\"]]\n",
    "plot_region = plot_region.set_index(\"YeStart\")\n",
    "plot_region"
   ]
  },
  {
   "cell_type": "code",
   "execution_count": null,
   "metadata": {},
   "outputs": [],
   "source": [
    "import plotly as py\n",
    "py.offline.init_notebook_mode(connected=True)\n",
    "\n",
    "data = []\n",
    "ind = plot_region.index.unique().sort_values()\n",
    "for i in ind:\n",
    "\n",
    "    study = plot_region.loc[[i]]\n",
    "    \n",
    "    data.append(dict(\n",
    "        type = 'choropleth',\n",
    "        visible = False,\n",
    "        locations = study['name'],\n",
    "        locationmode = 'country names',\n",
    "        z = study['Count'],\n",
    "        text = study['Region'],\n",
    "        colorscale='Volcano',\n",
    "        colorbar = dict(\n",
    "            title = 'Number of surveys per country - '+str(i))\n",
    "      )\n",
    "               )\n",
    "\n",
    "dates = []\n",
    "for k in range(len(ind)):\n",
    "    step = dict(\n",
    "        method = 'restyle',\n",
    "        args = ['visible', [False] * len(ind)],\n",
    "        label = str(k+1898)\n",
    "    )\n",
    "    step['args'][1][k] = True # Toggle i'th trace to \"visible\"\n",
    "    dates.append(step)\n",
    "    \n",
    "sliders = [dict(\n",
    "    active = 0,\n",
    "    currentvalue = {\"prefix\": \"Date: \"},\n",
    "    pad = {\"t\": len(ind)},\n",
    "    steps = dates\n",
    ")]\n",
    "                \n",
    "layout = dict(\n",
    "        title = 'Evolution of number of surveys in African UN Sub regions',\n",
    "        showlegend = True,\n",
    "        hovermode = True,\n",
    "        geo = dict(\n",
    "            scope='africa',\n",
    "            projection=dict( type='africa' ),\n",
    "            showland = True,\n",
    "            landcolor = 'rgb(300, 300, 300)',\n",
    "            subunitwidth=1,\n",
    "            countrywidth=1,\n",
    "            subunitcolor=\"rgb(255, 255, 255)\",\n",
    "            countrycolor=\"rgb(100, 100, 100)\"\n",
    "            ),\n",
    "        sliders=sliders,\n",
    "        )\n",
    "\n",
    "fig = dict( data=data, layout=layout )\n",
    "py.offline.iplot(fig)"
   ]
  },
  {
   "cell_type": "markdown",
   "metadata": {},
   "source": [
    "Now, let us design a time-series based approach on this data.\n",
    "\n",
    "First, convert the dataframe to a timebased index"
   ]
  },
  {
   "cell_type": "code",
   "execution_count": null,
   "metadata": {},
   "outputs": [],
   "source": [
    "a = studies_r.index.values.astype(\"str\")\n",
    "b = np.array([\"-01-01\"]*len(studies_r.index.values))\n",
    "date_index = np.core.defchararray.add(a, b)\n",
    "\n",
    "studies_d = studies_r.copy()\n",
    "studies_d.index = pd.DatetimeIndex(date_index)\n",
    "\n",
    "studies_d"
   ]
  },
  {
   "cell_type": "code",
   "execution_count": 708,
   "metadata": {
    "scrolled": false
   },
   "outputs": [
    {
     "data": {
      "image/png": "[encoded data removed]",
      "text/plain": [
       "<matplotlib.figure.Figure at 0x1c2ece7588>"
      ]
     },
     "metadata": {},
     "output_type": "display_data"
    }
   ],
   "source": [
    "studies_d.pivot(values='Count', columns='Region').plot(title=\"Number of surveys per Region over time\")\n",
    "plt.show()"
   ]
  },
  {
   "cell_type": "markdown",
   "metadata": {},
   "source": [
    "This looks more interesting to study! "
   ]
  },
  {
   "cell_type": "code",
   "execution_count": null,
   "metadata": {},
   "outputs": [],
   "source": [
    "from statsmodels.tsa.stattools import adfuller\n",
    "def test_stationarity(timeseries):\n",
    "    \n",
    "    #Determing rolling statistics\n",
    "    rolmean = timeseries.rolling(window=20,min_periods=1).mean()\n",
    "    #rolstd = timeseries.rolling(window=20,min_periods=1).std()\n",
    "\n",
    "    #Plot rolling statistics:\n",
    "    orig = plt.plot(timeseries, color='blue',label='Original')\n",
    "    mean = plt.plot(rolmean, color='red', label='Rolling Mean')\n",
    "    #std = plt.plot(rolstd, color='black', label = 'Rolling Std')\n",
    "    plt.legend(loc='best')\n",
    "    plt.title('Rolling Mean & Standard Deviation')\n",
    "    plt.show(block=False)\n",
    "    \n",
    "    #Perform Dickey-Fuller test:\n",
    "    print('Results of Dickey-Fuller Test:')\n",
    "    dftest = adfuller(timeseries, autolag='AIC')\n",
    "    dfoutput = pd.Series(dftest[0:4], index=['Test Statistic','p-value','#Lags Used','Number of Observations Used'])\n",
    "    for key,value in dftest[4].items():\n",
    "        dfoutput['Critical Value (%s)'%key] = value\n",
    "    print(dfoutput)"
   ]
  },
  {
   "cell_type": "code",
   "execution_count": 744,
   "metadata": {
    "scrolled": false
   },
   "outputs": [
    {
     "data": {
      "image/png": "[encoded data removed]",
      "text/plain": [
       "<matplotlib.figure.Figure at 0x1c294c27f0>"
      ]
     },
     "metadata": {},
     "output_type": "display_data"
    }
   ],
   "source": [
    "#test_stationarity(studies_r[studies_r.Region == \"Western Africa\"].Count)\n",
    "\n",
    "studies_mean = studies_r.groupby(\"Region\").rolling(window=20,min_periods=1).mean()\n",
    "\n",
    "fig, ax = plt.subplots()\n",
    "\n",
    "for i in test.Region.unique():\n",
    "    studies_mean.xs(i,level=\"Region\").plot(y = \"Count\",ax=ax, label = i,title = \"20 year rolling average of survey number\")\n",
    "\n",
    "\n",
    "plt.legend(loc='best')   \n",
    "\n",
    "plt.show()\n"
   ]
  },
  {
   "cell_type": "code",
   "execution_count": null,
   "metadata": {},
   "outputs": [],
   "source": []
  },
  {
   "cell_type": "code",
   "execution_count": 770,
   "metadata": {},
   "outputs": [
    {
     "data": {
      "text/plain": [
       "<matplotlib.axes._subplots.AxesSubplot at 0x1c2969c5c0>"
      ]
     },
     "execution_count": 770,
     "metadata": {},
     "output_type": "execute_result"
    },
    {
     "data": {
      "image/png": "[encoded data removed]",
      "text/plain": [
       "<matplotlib.figure.Figure at 0x1c29a1c8d0>"
      ]
     },
     "metadata": {},
     "output_type": "display_data"
    }
   ],
   "source": [
    "rolling_region = studies_mean.drop(\"Region\",axis=1).reset_index()\n",
    "rolling_region[\"YeStart\"] = rolling_region[\"YeStart\"] - 1898\n",
    "rolling_region[rolling_region[\"Region\"]==\"Western Africa\"].plot(x=\"YeStart\",y=\"Count\")"
   ]
  },
  {
   "cell_type": "code",
   "execution_count": null,
   "metadata": {},
   "outputs": [],
   "source": []
  }
 ],
 "metadata": {
  "kernelspec": {
   "display_name": "Python 3",
   "language": "python",
   "name": "python3"
  },
  "language_info": {
   "codemirror_mode": {
    "name": "ipython",
    "version": 3
   },
   "file_extension": ".py",
   "mimetype": "text/x-python",
   "name": "python",
   "nbconvert_exporter": "python",
   "pygments_lexer": "ipython3",
   "version": "3.6.2"
  }
 },
 "nbformat": 4,
 "nbformat_minor": 2
}
