{
 "cells": [
  {
   "cell_type": "markdown",
   "metadata": {
    "collapsed": true
   },
   "source": [
    "# Malaria Project\n",
    "\n",
    "## Introduction \n",
    "##### Members\n",
    "   Sebastian Schwarz\n",
    "   Youssef Hantous\n",
    "\n",
    "##### Data Source \n",
    "- Kaggle: https://www.kaggle.com/jboysen/malaria-mosquito \n",
    "- Dataverse: https://dataverse.harvard.edu/dataset.xhtml?persistentId=doi:10.7910/DVN/NQ6CUN\n",
    "\n",
    "\n",
    "##### Github Repository\n",
    "- https://github.com/SebastianS09/Malaria\n",
    "\n",
    "##### Project Description\n",
    "XXX\n",
    "\n",
    "## Code\n",
    "##### Data Import and cleaning"
   ]
  },
  {
   "cell_type": "code",
   "execution_count": 4,
   "metadata": {},
   "outputs": [
    {
     "name": "stdout",
     "output_type": "stream",
     "text": [
      "  Country GAUL_Admin1    GAUL_Admin2       Full_Name     Lat     Long  \\\n",
      "0  Angola       Bengo          Dande  Barra do Dande -8.4730  13.3620   \n",
      "1  Angola       Bengo          Dande       Boa Vista -8.5990  13.5660   \n",
      "2  Angola       Bengo          Dande         Cabungo -8.5667  13.5000   \n",
      "3  Angola       Bengo          Dande          Lifune -8.4000  13.4490   \n",
      "4  Angola       Bengo         Dembos          Dembos -8.5156  14.5189   \n",
      "5  Angola       Bengo  Icolo E Bengo       Bom Jesus -9.1660  13.5660   \n",
      "6  Angola       Bengo  Icolo E Bengo   Icolo e Bengo -9.2500  13.7333   \n",
      "7  Angola       Bengo  Icolo E Bengo         Kilunda -8.9268  13.5878   \n",
      "8  Angola       Bengo  Icolo E Bengo     Lagoa Banda -8.8503  13.5842   \n",
      "9  Angola       Bengo  Icolo E Bengo          Mazozo -9.1020  13.6220   \n",
      "\n",
      "  LatLong_Source  YeStart  YeEnd An gambiae_complex  \\\n",
      "0        Encarta     1967   1967                  Y   \n",
      "1        Encarta     1987   1987                  Y   \n",
      "2          Other     2002   2002                  Y   \n",
      "3        Encarta     1970   1970                NaN   \n",
      "4   Google Earth     1940   1940                  Y   \n",
      "5        Encarta     1952   1955                NaN   \n",
      "6          Other     1940   1940                  Y   \n",
      "7          Other     2001   2002                NaN   \n",
      "8   Google Earth     1965   1965                  Y   \n",
      "9        Encarta     1970   1970                  Y   \n",
      "\n",
      "                         ...                         An rufipes  \\\n",
      "0                        ...                                NaN   \n",
      "1                        ...                                NaN   \n",
      "2                        ...                                NaN   \n",
      "3                        ...                                NaN   \n",
      "4                        ...                                NaN   \n",
      "5                        ...                                NaN   \n",
      "6                        ...                                NaN   \n",
      "7                        ...                                NaN   \n",
      "8                        ...                                NaN   \n",
      "9                        ...                                NaN   \n",
      "\n",
      "  An coustani s.l An ziemanni  An paludis    Adults/Larvae   Sampling_Methods  \\\n",
      "0             NaN          NaN         NaN  Adults, Larvae       HLC, HBC, LC   \n",
      "1             NaN          NaN         NaN  Adults, Larvae            PSC, LC   \n",
      "2             NaN          NaN         NaN          Adults   IR, Bednet traps   \n",
      "3               Y            Y         NaN  Adults, Larvae       HLC, ABC, LC   \n",
      "4             NaN          NaN         NaN         Unknown            Unknown   \n",
      "5               Y            Y         NaN          Adults            IR, HLC   \n",
      "6             NaN          NaN         NaN         Unknown            Unknown   \n",
      "7             NaN          NaN         NaN          Adults                 IR   \n",
      "8               Y            Y         NaN  Adults, Larvae  HLC, HBC, ABC, LC   \n",
      "9             NaN          NaN         NaN  Adults, Larvae       HLC, ABC, LC   \n",
      "\n",
      "  Species_Identification Other sib species names Other Anopheline species  \\\n",
      "0                      M                     NaN                      NaN   \n",
      "1                      M                     NaN                      NaN   \n",
      "2                 M, PCR                     NaN                      NaN   \n",
      "3                      M                     NaN                      NaN   \n",
      "4                      M                     NaN                      NaN   \n",
      "5                      M                     NaN                      NaN   \n",
      "6                      M                     NaN                      NaN   \n",
      "7                 M, CBS                     NaN                      NaN   \n",
      "8                      M                     NaN                      NaN   \n",
      "9                      M                     NaN                      NaN   \n",
      "\n",
      "                                        Source_Title  \n",
      "0  Ribeiro H & Ramos HC (1975). Research on the m...  \n",
      "1  Ramos L (1988). Memorandum sent to Director Ge...  \n",
      "2  Calzetta M, Santolamazza F, Carrara GC, Cani P...  \n",
      "3  Ribeiro H & Ramos HC (1975). Research on the m...  \n",
      "4  De Mesquita B (1942). Considerações sobre o im...  \n",
      "5  Gandara AF (1956). Subsido para o estude dos '...  \n",
      "6  Ribiero L (1942). Notas sobre aspectos nosogra...  \n",
      "7  Boccolini D, Carrara GC, Dia I, Fortes F, Cani...  \n",
      "8  Ribeiro H & Ramos HC (1975). Research on the m...  \n",
      "9  Ribeiro H & Ramos HC (1975). Research on the m...  \n",
      "\n",
      "[10 rows x 41 columns]\n"
     ]
    }
   ],
   "source": [
    "import numpy as np \n",
    "import pandas as pd \n",
    "\n",
    "\n",
    "data_raw = pd.read_csv(\"https://raw.githubusercontent.com/SebastianS09/Malaria/master/Data/Malaria.csv\")\n",
    "\n",
    "print(data_raw.head(10))"
   ]
  },
  {
   "cell_type": "code",
   "execution_count": null,
   "metadata": {
    "collapsed": true
   },
   "outputs": [],
   "source": []
  }
 ],
 "metadata": {
  "kernelspec": {
   "display_name": "Python 3",
   "language": "python",
   "name": "python3"
  },
  "language_info": {
   "codemirror_mode": {
    "name": "ipython",
    "version": 3
   },
   "file_extension": ".py",
   "mimetype": "text/x-python",
   "name": "python",
   "nbconvert_exporter": "python",
   "pygments_lexer": "ipython3",
   "version": "3.6.2"
  }
 },
 "nbformat": 4,
 "nbformat_minor": 2
}
