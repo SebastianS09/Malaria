{
 "cells": [
  {
   "cell_type": "markdown",
   "metadata": {
    "collapsed": true
   },
   "source": [
    "# Malaria Project\n",
    "\n",
    "## Introduction \n",
    "##### Members\n",
    "   Sebastian Schwarz\n",
    "   Youssef Hantous\n",
    "\n",
    "##### Project Description\n",
    "The aim of this project is to study the distribution and evolution of anophenile vectors of Malaria in Africa. \n",
    "The dataset is a compilation of all available mosquito studies from 1898 to 2016. It was compiled in *Kyalo D, Amratia P, Mundia CW et al. A geo-coded inventory of anophelines in the Afrotropical Region south of the Sahara: 1898-2016*, published in 2017 with the help of the KEMRI-Wellcome Trust, in collaboration with many major research agencies on Malaria. \n",
    "\n",
    "This data should help better understand how malaria developped in the past century and what species are primarily associated with its expansion. \n",
    "\n",
    "We want to present this data in a clear fashion, showing trends in the evolution and the spread of anopheniles in Africa, and try to predict the future repartition of main malaria transmitting species. \n",
    "\n",
    "\n",
    "##### Data Source \n",
    "- Kaggle: https://www.kaggle.com/jboysen/malaria-mosquito \n",
    "- Dataverse: https://dataverse.harvard.edu/dataset.xhtml?persistentId=doi:10.7910/DVN/NQ6CUN\n",
    "\n",
    "The paper describing how this dataset was compiled can be found here: https://wellcomeopenresearch.org/articles/2-57/v1 \n",
    "\n",
    "##### Github Repository\n",
    "- https://github.com/SebastianS09/Malaria (peut être pas) \n",
    "\n",
    "\n",
    "## Code\n",
    "#### Data Import auditing and cleaning"
   ]
  },
  {
   "cell_type": "code",
   "execution_count": null,
   "metadata": {
    "collapsed": true
   },
   "outputs": [],
   "source": [
    "import numpy as np \n",
    "import pandas as pd \n",
    "\n",
    "data_raw = pd.read_csv(\"https://raw.githubusercontent.com/SebastianS09/Malaria/master/Data/Malaria.csv\")\n",
    "\n",
    "print(\"The dataset has \",data_raw.shape[0],\"rows and \",data_raw.shape[1],\"columns\")\n",
    "\n",
    "data_raw.head(10)\n"
   ]
  },
  {
   "cell_type": "markdown",
   "metadata": {
    "collapsed": true
   },
   "source": [
    "One observation of the data set is associated with one location, time and a source study. \n",
    "The location information is displayed as follows: \n",
    "- Country and Village name\n",
    "- GAUL administrative regions (https://en.wikipedia.org/wiki/Global_Administrative_Unit_Layers) which are a unified spatial admnistrative unit system\n",
    "- Geospatial coordinates and source\n",
    "\n",
    "Each survey has a start and an end date. We will audit this in the next cell\n",
    "\n",
    "There is supplementary information on the survey namely:\n",
    "- Adults/Larvae: whether the survey was conducts on adults or larvae (live in water), sometimes unknown\n",
    "- Sampling methods: how the speciemens where caught \n",
    "- Identification methods: how they were attributed to one species\n",
    "- Other names and other species: if the species found also have other names and if they were other species present than the main 36 quoted\n",
    "Details of the abreviations can be found here: https://github.com/SebastianS09/Malaria/blob/master/Data/Africa%20Vectors%20database_1898-2016_key.pdf\n",
    "\n",
    "We will explore this supplementary information later"
   ]
  },
  {
   "cell_type": "code",
   "execution_count": null,
   "metadata": {
    "collapsed": true
   },
   "outputs": [],
   "source": [
    "import matplotlib.pyplot as plt\n",
    "dates = np.vstack([data_raw[\"YeStart\"],data_raw[\"YeEnd\"]]).T\n",
    "plt.hist(dates,bins=50, alpha=0.75, label=['Start', 'End'])\n",
    "plt.legend(loc='upper right')\n",
    "plt.title(\"Histogram of survey Start and End year\")\n",
    "plt.show()"
   ]
  },
  {
   "cell_type": "markdown",
   "metadata": {},
   "source": [
    "As we can see, most of the surveys have been executed around the 60s and in the late 2000s. \n",
    "\n",
    "However, the start year and the end year do not always coincide, meaning that the surveys may have been run on periods extending one year. Let us look into this with more detail. "
   ]
  },
  {
   "cell_type": "code",
   "execution_count": null,
   "metadata": {
    "collapsed": true
   },
   "outputs": [],
   "source": [
    "length = dates[:,1]-dates[:,0]\n",
    "plt.hist(length, bins=50, facecolor=\"blue\", alpha=0.75)\n",
    "plt.title(\"Histogram of Survey length\")\n",
    "plt.show()"
   ]
  },
  {
   "cell_type": "markdown",
   "metadata": {},
   "source": [
    "Most of the surveys have lasted for less than five years which seems reasonable. \n",
    "The fact that there is a non zero number of surveys lasting more than 20 years however is surprising. \n",
    "Let us look at this data and query the unique study titles associated to these long period surveys"
   ]
  },
  {
   "cell_type": "code",
   "execution_count": null,
   "metadata": {
    "collapsed": true
   },
   "outputs": [],
   "source": [
    "long_survey = data_raw[[\"YeStart\",\"YeEnd\",\"Source_Title\"]].query(\"YeEnd-YeStart>20\")\n",
    "pd.DataFrame(long_survey)"
   ]
  },
  {
   "cell_type": "code",
   "execution_count": null,
   "metadata": {
    "collapsed": true
   },
   "outputs": [],
   "source": [
    "pd.DataFrame(long_survey[\"Source_Title\"].value_counts().sort_values(ascending = False))"
   ]
  },
  {
   "cell_type": "markdown",
   "metadata": {},
   "source": [
    "Looking at this summary data, it seems that republication dates have sometimes be taken into account as end dates (see Hamon J studies for example). \n",
    "\n",
    "**Moving forward, we will therefore use the start date as the reference date.** We would suggest auditing these long period cases for the sake of the datasets integrity, even if it does not affect us very much here."
   ]
  },
  {
   "cell_type": "markdown",
   "metadata": {},
   "source": [
    "Let us move forward and clean the data to only keep the rows we need in our anlaysis. \n",
    "\n",
    "##### Removing unecessary geographical precision and study information"
   ]
  },
  {
   "cell_type": "code",
   "execution_count": null,
   "metadata": {
    "collapsed": true
   },
   "outputs": [],
   "source": [
    "data_raw.columns = [i.replace(' ', '_') for i in data_raw.columns]\n",
    "col_rm = ['GAUL_Admin2','Full_Name','LatLong_Source','Source_Title']\n",
    "data_rm = data_raw.drop(col_rm, axis=1)"
   ]
  },
  {
   "cell_type": "markdown",
   "metadata": {},
   "source": [
    "##### Replacing Y and NaN with 0 and 1 for ease of understanding (col 7 to 33)\n",
    "As we can see, the presence of an anophenile is encoded in columns holding the species' names, with \"Yes\" if it is present and \"NaN\" otherwise. \n",
    "We will replace these values to 0 and 1 to be able to perform mathematical operations on the columns"
   ]
  },
  {
   "cell_type": "code",
   "execution_count": null,
   "metadata": {
    "collapsed": true
   },
   "outputs": [],
   "source": [
    "data_clean = data_rm.copy()\n",
    "\n",
    "ano = list(data_clean)[6:32]\n",
    "data_clean[ano] = data_clean[ano].replace(['Y'],1)\n",
    "data_clean[ano] = data_clean[ano].fillna(0)\n",
    "\n",
    "data_clean.head(10)"
   ]
  },
  {
   "cell_type": "markdown",
   "metadata": {},
   "source": [
    "We see that we have other species not mentionned in the column names in the last column. Let us check if they are relevant (in terms of frequency vs. species with dedicated columns):"
   ]
  },
  {
   "cell_type": "code",
   "execution_count": null,
   "metadata": {
    "collapsed": true
   },
   "outputs": [],
   "source": [
    "#splitting the last column as the additional are comma separated\n",
    "other_f = data_clean['Other_Anopheline_species'].str.split(', ', expand=True)\n",
    "other_f.fillna(0,inplace=True)\n",
    "\n",
    "#counting the occurence in each new column\n",
    "a = other_f[0].value_counts().to_frame()\n",
    "for i in list(other_f.drop(0,axis=1)):\n",
    "    a = a.join(other_f[i].value_counts().to_frame())\n",
    "a.fillna(0,inplace=True)\n",
    "\n",
    "#summing the columns up to have a definite count\n",
    "pd.DataFrame(a.sum(axis=1).sort_values(ascending = False)[1:,])"
   ]
  },
  {
   "cell_type": "code",
   "execution_count": null,
   "metadata": {
    "collapsed": true
   },
   "outputs": [],
   "source": [
    "pd.DataFrame(data_clean[ano].sum(axis=0).sort_values(ascending = False))"
   ]
  },
  {
   "cell_type": "markdown",
   "metadata": {},
   "source": [
    "As we can see, there are quite high occuring species in \"Others\". they would rank above An Mouscheti in the primary vector classification. \n",
    "\n",
    "However, and as stated in the abstract, the classification has not be done exclusively on occurence. According to the authors of the dataset, *\"The definition of secondary vectors is complex and often site/time specific\"* We refer to the paper for further information but the main point is that secondary vectors do not transmit paludism to humans, or in very rare cases. \n",
    "\n",
    "For the sake of the exercise and reflecting information of this databse of anopheniles: http://bioinfo-web.mpl.ird.fr/identiciels/anopheles/html/taxa/pretoriensis_A_.html, we will add  An Pretoriensis to the primary vectors as they have been transmitting fever generating arboviruses in Nigeria"
   ]
  },
  {
   "cell_type": "code",
   "execution_count": null,
   "metadata": {
    "collapsed": true
   },
   "outputs": [],
   "source": [
    "An_pretoriensis = data_clean[\"Other_Anopheline_species\"].str.contains(\"An pretoriensis\").fillna(0)*1\n",
    "data_clean.insert(32,\"An_pretoriensis\",An_pretoriensis)\n"
   ]
  },
  {
   "cell_type": "markdown",
   "metadata": {},
   "source": [
    "#### Data inspection tools\n",
    "\n",
    "As a second step we will write some tools (functions), that will allow us to inspect parts of the data, in particular to extract records of the dataset and to present them in a new and interesting fashion\n",
    "\n",
    "- function to get all the mosquitos associated to a country and a time frame\n",
    "- function to get all the records near a given point of interest \n",
    "- function to "
   ]
  },
  {
   "cell_type": "code",
   "execution_count": 100,
   "metadata": {},
   "outputs": [
    {
     "name": "stdout",
     "output_type": "stream",
     "text": [
      "(-1.2832533, 36.8172449)\n"
     ]
    }
   ],
   "source": [
    "from geopy.geocoders import Nominatim\n",
    "geolocator = Nominatim()\n",
    "location = geolocator.geocode(\"Nairobi\")\n",
    "print((location.latitude, location.longitude))"
   ]
  },
  {
   "cell_type": "code",
   "execution_count": 106,
   "metadata": {},
   "outputs": [
    {
     "data": {
      "text/html": [
       "<iframe id=\"igraph\" scrolling=\"no\" style=\"border:none;\" seamless=\"seamless\" src=\"https://plot.ly/~sebastian09/4.embed\" height=\"525px\" width=\"100%\"></iframe>"
      ],
      "text/plain": [
       "<plotly.tools.PlotlyDisplay object>"
      ]
     },
     "execution_count": 106,
     "metadata": {},
     "output_type": "execute_result"
    }
   ],
   "source": []
  },
  {
   "cell_type": "code",
   "execution_count": 107,
   "metadata": {},
   "outputs": [
    {
     "data": {
      "text/plain": [
       "5"
      ]
     },
     "execution_count": 107,
     "metadata": {},
     "output_type": "execute_result"
    }
   ],
   "source": [
    "len(limits)"
   ]
  },
  {
   "cell_type": "code",
   "execution_count": null,
   "metadata": {
    "collapsed": true
   },
   "outputs": [],
   "source": []
  }
 ],
 "metadata": {
  "kernelspec": {
   "display_name": "Python 3",
   "language": "python",
   "name": "python3"
  },
  "language_info": {
   "codemirror_mode": {
    "name": "ipython",
    "version": 3
   },
   "file_extension": ".py",
   "mimetype": "text/x-python",
   "name": "python",
   "nbconvert_exporter": "python",
   "pygments_lexer": "ipython3",
   "version": "3.6.2"
  }
 },
 "nbformat": 4,
 "nbformat_minor": 2
}
